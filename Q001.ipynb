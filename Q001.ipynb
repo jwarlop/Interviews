{
 "cells": [
  {
   "cell_type": "code",
   "execution_count": 6,
   "metadata": {},
   "outputs": [
    {
     "name": "stdout",
     "output_type": "stream",
     "text": [
      "1\n"
     ]
    }
   ],
   "source": [
    "#Write a program that will find the maximum number of consecutive characters in a\n",
    "#string\n",
    "#example \"aaAAAbbcef\" => A:3\n",
    "#\n",
    "s = \"aaAAAbbcef\"\n",
    "j = 1\n",
    "h = {}\n",
    "h[s[0]]=1\n",
    "max  = 0\n",
    "maxl = '~' \n",
    "for idx,e in enumerate(s):\n",
    "    c = s[idx]\n",
    "    if idx == 0:\n",
    "        p = s[idx]\n",
    "        continue\n",
    "    if c == p: #current == prior\n",
    "        j += 1\n",
    "        h[c] = j\n",
    "        if j > max:\n",
    "            j = max\n",
    "            maxl = c\n",
    "    else:\n",
    "        h[c] = 1\n",
    "        j = 1\n",
    "    p = c\n",
    "print(h[c])"
   ]
  },
  {
   "cell_type": "code",
   "execution_count": null,
   "metadata": {
    "collapsed": true
   },
   "outputs": [],
   "source": []
  }
 ],
 "metadata": {
  "kernelspec": {
   "display_name": "Python 3",
   "language": "python",
   "name": "python3"
  },
  "language_info": {
   "codemirror_mode": {
    "name": "ipython",
    "version": 3
   },
   "file_extension": ".py",
   "mimetype": "text/x-python",
   "name": "python",
   "nbconvert_exporter": "python",
   "pygments_lexer": "ipython3",
   "version": "3.6.3"
  }
 },
 "nbformat": 4,
 "nbformat_minor": 2
}
